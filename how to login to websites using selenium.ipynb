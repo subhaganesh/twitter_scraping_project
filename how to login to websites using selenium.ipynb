{
 "cells": [
  {
   "cell_type": "code",
   "execution_count": 2,
   "id": "a4565124",
   "metadata": {},
   "outputs": [
    {
     "name": "stderr",
     "output_type": "stream",
     "text": [
      "C:\\Users\\subha\\AppData\\Local\\Temp\\ipykernel_4932\\372965332.py:8: DeprecationWarning: executable_path has been deprecated, please pass in a Service object\n",
      "  driver = webdriver.Chrome(path)\n"
     ]
    }
   ],
   "source": [
    "from selenium import webdriver\n",
    "import time\n",
    "from selenium.webdriver.common.by import By\n",
    "\n",
    "\n",
    "web = \"https://twitter.com/i/flow/login\"\n",
    "path = r'\"C:\\Users\\subha\\OneDrive\\Desktop\\chromedriver.exe\"'\n",
    "driver = webdriver.Chrome(path)\n",
    "driver.get(web)\n",
    "driver.maximize_window()\n",
    "\n",
    "#___________________________________________________________________________________________\n",
    "# wait of 6 seconds to let the page load the content\n",
    "time.sleep(3)  # this time might vary depending on your computer\n",
    "\n",
    "# locating username and password inputs and sending text to the inputs\n",
    "# username\n",
    "username = driver.find_element(By.XPATH,'//input[@autocomplete =\"username\"]')\n",
    "username.send_keys(\"username\")  # Write Email Here\n",
    "# username.send_keys(os.environ.get(\"TWITTER_USER\"))\n",
    "\n",
    "# Clicking on \"Next\" button\n",
    "next_button = driver.find_element(By.XPATH,'//div[@role=\"button\"]//span[text()=\"Next\"]')\n",
    "next_button.click()\n",
    "\n",
    "#____________________________________________________________________________________________\n",
    "\n",
    "# wait of 2 seconds after clicking button\n",
    "time.sleep(2)\n",
    "\n",
    "# password\n",
    "password = driver.find_element(By.XPATH,'//input[@autocomplete =\"current-password\"]')\n",
    "password.send_keys(\"password\")  # Write Password Here\n",
    "# password.send_keys(os.environ.get(\"TWITTER_PASS\"))\n",
    "\n",
    "# locating login button and then clicking on it\n",
    "login_button = driver.find_element(By.XPATH,'//div[@role=\"button\"]//span[text()=\"Log in\"]')\n",
    "login_button.click()\n",
    "\n",
    "# closing driver\n",
    "driver.quit()"
   ]
  },
  {
   "cell_type": "code",
   "execution_count": null,
   "id": "21c249a7",
   "metadata": {},
   "outputs": [],
   "source": []
  },
  {
   "cell_type": "code",
   "execution_count": null,
   "id": "9306b200",
   "metadata": {},
   "outputs": [],
   "source": []
  },
  {
   "cell_type": "code",
   "execution_count": null,
   "id": "02a2886b",
   "metadata": {},
   "outputs": [],
   "source": []
  },
  {
   "cell_type": "code",
   "execution_count": null,
   "id": "b9940556",
   "metadata": {},
   "outputs": [],
   "source": []
  },
  {
   "cell_type": "code",
   "execution_count": null,
   "id": "d94aeba6",
   "metadata": {},
   "outputs": [],
   "source": []
  },
  {
   "cell_type": "code",
   "execution_count": null,
   "id": "1e32389d",
   "metadata": {},
   "outputs": [],
   "source": []
  },
  {
   "cell_type": "code",
   "execution_count": null,
   "id": "77b12ab5",
   "metadata": {},
   "outputs": [],
   "source": []
  },
  {
   "cell_type": "code",
   "execution_count": null,
   "id": "6865c152",
   "metadata": {},
   "outputs": [],
   "source": []
  },
  {
   "cell_type": "code",
   "execution_count": null,
   "id": "76b84e32",
   "metadata": {},
   "outputs": [],
   "source": []
  },
  {
   "cell_type": "code",
   "execution_count": null,
   "id": "d3393f3b",
   "metadata": {},
   "outputs": [],
   "source": []
  },
  {
   "cell_type": "code",
   "execution_count": null,
   "id": "07b3d67f",
   "metadata": {},
   "outputs": [],
   "source": []
  }
 ],
 "metadata": {
  "kernelspec": {
   "display_name": "Python 3 (ipykernel)",
   "language": "python",
   "name": "python3"
  },
  "language_info": {
   "codemirror_mode": {
    "name": "ipython",
    "version": 3
   },
   "file_extension": ".py",
   "mimetype": "text/x-python",
   "name": "python",
   "nbconvert_exporter": "python",
   "pygments_lexer": "ipython3",
   "version": "3.9.7"
  }
 },
 "nbformat": 4,
 "nbformat_minor": 5
}
