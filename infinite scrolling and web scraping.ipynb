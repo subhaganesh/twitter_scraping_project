{
 "cells": [
  {
   "cell_type": "code",
   "execution_count": 1,
   "id": "607e5689",
   "metadata": {},
   "outputs": [
    {
     "name": "stderr",
     "output_type": "stream",
     "text": [
      "C:\\Users\\subha\\AppData\\Local\\Temp\\ipykernel_2280\\3932436859.py:11: DeprecationWarning: executable_path has been deprecated, please pass in a Service object\n",
      "  driver = webdriver.Chrome(path)\n"
     ]
    },
    {
     "name": "stdout",
     "output_type": "stream",
     "text": [
      "7\n",
      "28\n",
      "22\n",
      "21\n",
      "29\n",
      "25\n",
      "33\n",
      "32\n",
      "31\n",
      "18\n",
      "                user                                               text\n",
      "0    @TwitterSupport  We had planned for Fleets to help people feel ...\n",
      "1    @TwitterSupport  We learned a lot from Fleets and we’re excited...\n",
      "2    @TwitterSupport  Taking big chances helps us make the best prod...\n",
      "3        @ladyofacat  Please let us have multiple gifs per tweet I’m...\n",
      "4    @TwitterSupport  Hi, Anita. We appreciate your suggestion and w...\n",
      "..               ...                                                ...\n",
      "87        @RichLevy5  why not make a yes or no button that leaves or...\n",
      "88  @comrade_walther  recommendation to allow all mobile platforms i...\n",
      "89       @PurpleT100  Please put the timeline back to how it was bef...\n",
      "90       @PurpleT100  The blog me tions \"full screen vertical ads\". ...\n",
      "91      @jooniesmoni  Please let us have a way to search old stuff f...\n",
      "\n",
      "[92 rows x 2 columns]\n"
     ]
    }
   ],
   "source": [
    "from selenium import webdriver\n",
    "import time\n",
    "from selenium.webdriver.common.by import By\n",
    "from selenium.webdriver.support.ui import WebDriverWait\n",
    "from selenium.webdriver.support import expected_conditions as EC\n",
    "import pandas as pd\n",
    "\n",
    "web = \"https://twitter.com/TwitterSupport/status/1415364740583395328\"\n",
    "# web = \"https://twitter.com/TwitterSupport\"\n",
    "path = r'\"C:\\Users\\subha\\OneDrive\\Desktop\\chromedriver.exe\"'\n",
    "driver = webdriver.Chrome(path)\n",
    "driver.get(web)\n",
    "driver.maximize_window()\n",
    "\n",
    "def get_tweet(element):\n",
    "    try:\n",
    "        user = element.find_element(By.XPATH,\".//span[contains(text(), '@')]\").text\n",
    "        text = element.find_element(By.XPATH,\".//div[@lang]\").text\n",
    "        tweet_data = [user, text]\n",
    "    except:\n",
    "        tweet_data = ['user', 'text']\n",
    "    return tweet_data\n",
    "#___________________________________________________________________________________________________________\n",
    "\n",
    "user_data = []\n",
    "text_data = []\n",
    "tweet_ids = set()\n",
    "scrolling = True\n",
    "\n",
    "while scrolling:\n",
    "    tweets = WebDriverWait(driver, 5).until(EC.presence_of_all_elements_located((By.XPATH, \"//article[@role='article']\")))\n",
    "    print(len(tweets))\n",
    "    for tweet in tweets[-15:]:  # you can change this number with the number of tweets in a website || NOTE: ONLY THOSE LOADED IN THE last page will be considered while those from previous page will be forgotten (example: scroll all the way down and then try to find an @username that it's on top --> it won't find it)\n",
    "        tweet_list = get_tweet(tweet)\n",
    "        tweet_id = ''.join(tweet_list)\n",
    "        if tweet_id not in tweet_ids:\n",
    "            tweet_ids.add(tweet_id)\n",
    "            user_data.append(tweet_list[0])\n",
    "            text_data.append(\" \".join(tweet_list[1].split()))\n",
    "#__________________________________________________________________________________________________________\n",
    "\n",
    "    # Get the initial scroll height\n",
    "    last_height = driver.execute_script(\"return document.body.scrollHeight\")\n",
    "    while True:\n",
    "        # Scroll down to bottom\n",
    "        driver.execute_script(\"window.scrollTo(0, document.body.scrollHeight);\")\n",
    "        # Wait to load page\n",
    "        time.sleep(2)\n",
    "        # Calculate new scroll height and compare it with last scroll height\n",
    "        new_height = driver.execute_script(\"return document.body.scrollHeight\")\n",
    "        # condition 1\n",
    "        if new_height == last_height:  # if the new and last height are equal, it means that there isn't any new page to load, so we stop scrolling\n",
    "            scrolling = False\n",
    "            break\n",
    "        # condition 2\n",
    "        # if len(data) > 60:\n",
    "        #     scrolling = False\n",
    "        #     break\n",
    "        else:\n",
    "            last_height = new_height\n",
    "            break\n",
    "\n",
    "\n",
    "driver.quit()\n",
    "\n",
    "df_tweets = pd.DataFrame({'user': user_data, 'text': text_data})\n",
    "df_tweets.to_csv('tweets_pagination.csv', index=False)\n",
    "print(df_tweets)"
   ]
  },
  {
   "cell_type": "code",
   "execution_count": null,
   "id": "8b267a2d",
   "metadata": {},
   "outputs": [],
   "source": []
  }
 ],
 "metadata": {
  "kernelspec": {
   "display_name": "Python 3 (ipykernel)",
   "language": "python",
   "name": "python3"
  },
  "language_info": {
   "codemirror_mode": {
    "name": "ipython",
    "version": 3
   },
   "file_extension": ".py",
   "mimetype": "text/x-python",
   "name": "python",
   "nbconvert_exporter": "python",
   "pygments_lexer": "ipython3",
   "version": "3.9.7"
  }
 },
 "nbformat": 4,
 "nbformat_minor": 5
}
